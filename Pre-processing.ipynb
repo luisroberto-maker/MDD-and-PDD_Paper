{
  "nbformat": 4,
  "nbformat_minor": 0,
  "metadata": {
    "colab": {
      "provenance": []
    },
    "kernelspec": {
      "name": "python3",
      "display_name": "Python 3"
    },
    "language_info": {
      "name": "python"
    }
  },
  "cells": [
    {
      "cell_type": "code",
      "execution_count": null,
      "metadata": {
        "id": "0ZZ2MWi2C4XT"
      },
      "outputs": [],
      "source": [
        "import nltk\n",
        "nltk.download('wordnet')\n",
        "nltk.download('omw-1.4')\n",
        "nltk.download('stopwords')\n",
        "nltk.download('punkt')\n",
        "\n",
        "import re\n",
        "import string\n",
        "import numpy as np\n",
        "import gensim\n",
        "import wordninja\n",
        "\n",
        "from collections import OrderedDict\n",
        "from nltk.corpus import stopwords\n",
        "from nltk.stem import PorterStemmer\n",
        "from nltk.tokenize import TweetTokenizer\n",
        "from nltk.stem import WordNetLemmatizer\n",
        "from nltk.tokenize import word_tokenize\n",
        "\n",
        "from emot.emo_unicode import UNICODE_EMOJI # For emojis\n",
        "from emot.emo_unicode import EMOTICONS_EMO # For EMOTICONS\n",
        "\n",
        "def convert_emojis(text):\n",
        "    for emot in UNICODE_EMOJI:\n",
        "        text = text.replace(emot, \"_\".join(UNICODE_EMOJI[emot].replace(\",\",\"\").replace(\":\",\"\").split()))\n",
        "    return text\n",
        "\n",
        "def replaceEmoticons(text):\n",
        "    for emot in EMOTICONS_EMO:\n",
        "        text = text.replace(emot, \"_\".join(EMOTICONS_EMO[emot].replace(\",\",\"\").replace(\":\",\"\").split()))\n",
        "    return text\n",
        "\n",
        "def process_tweet2(tweet):\n",
        "    result=''\n",
        "    stemmer = PorterStemmer()\n",
        "    english_punctuations = string.punctuation\n",
        "    tweet= convert_emojis(tweet)\n",
        "    tweet= replaceEmoticons(tweet)\n",
        "    tweet = re.sub(r'_', ' ', tweet)\n",
        "    tweet = re.sub(r'\\$\\w*', '', tweet)\n",
        "    tweet = re.sub(r'^RT[\\s]+', '', tweet)\n",
        "    tweet = re.sub(r'https?:\\/\\/.*[\\r\\n]*', '', tweet)\n",
        "    tweet = re.sub(r'http', '', tweet)\n",
        "    tweet = re.sub(r'\\@\\w+|\\#\\…', '', tweet)\n",
        "    tweet = re.sub(r'…', '', tweet)\n",
        "    tweet = re.sub(r'[0-9]+', '', tweet)\n",
        "    tweet=re.sub(r'(.)\\1+', r'\\1\\1', tweet)\n",
        "    tweet=' '.join(OrderedDict((w,w) for w in tweet.split()).keys())\n",
        "    tweet.translate(str.maketrans('', '', string.punctuation))\n",
        "    translator = str.maketrans('', '', english_punctuations)\n",
        "    tweet= tweet.translate(translator)\n",
        "    tweet=wordninja.split(tweet)\n",
        "    tweet=\" \".join(tweet)\n",
        "    tweet=tweet.lower()\n",
        "    tweet=\" \".join(word for word in str(tweet).split() if word not in stop)\n",
        "    return tweet"
      ]
    }
  ]
}